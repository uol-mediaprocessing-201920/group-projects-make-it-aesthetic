{
  "nbformat": 4,
  "nbformat_minor": 0,
  "metadata": {
    "colab": {
      "name": "MakeItAesthetic.ipynb",
      "provenance": [],
      "collapsed_sections": [],
      "toc_visible": true
    },
    "kernelspec": {
      "name": "python3",
      "display_name": "Python 3"
    }
  },
  "cells": [
    {
      "cell_type": "markdown",
      "metadata": {
        "id": "9PfL_GJnIhmR",
        "colab_type": "text"
      },
      "source": [
        "# Make it Aesthetic"
      ]
    },
    {
      "cell_type": "markdown",
      "metadata": {
        "id": "IRsRspQ-40ug",
        "colab_type": "text"
      },
      "source": [
        "# Table of Content\n",
        "## 1 Introduction\n",
        "## 2 Goals\n",
        "## 3 Process\n",
        "## 4 Literature"
      ]
    },
    {
      "cell_type": "markdown",
      "metadata": {
        "id": "AJi4cjoGN_GR",
        "colab_type": "text"
      },
      "source": [
        "# 1 Introduction\n",
        "\n",
        "Photos are taken for various reasons.\n",
        "\n",
        "Someone wants to document some situations, others want to keep their experience in memory. And someone takes photos because of art reasons. \n",
        "\n",
        "Almost everybody makes photos but not every photograph fulfills the criteria of an aesthetic photo. To change this we aim to be able to make every photo aesthetic. To reach this goal it is necessary to define the rules of an aesthetic photo and to define which object is the main object of the photo. These goals are described in the following chapter.\n",
        "\n"
      ]
    },
    {
      "cell_type": "markdown",
      "metadata": {
        "id": "XJNkFGbbL3Es",
        "colab_type": "text"
      },
      "source": [
        "# 2 Goals\n",
        "* make given images aesthetic\n",
        "\n",
        "* selecting the guideline the image should follow\n",
        "\n",
        "* Rule of Thirds\n",
        "\n",
        "* Diagonal Dominance\n",
        "\n",
        "* Visual Balance\n",
        "\n",
        "* Golden Ratio\n",
        "\n",
        "* by zooming and rotation the image\n",
        "\n"
      ]
    },
    {
      "cell_type": "markdown",
      "metadata": {
        "id": "2WVioTW6Q-eF",
        "colab_type": "text"
      },
      "source": [
        "# 3 Theory and Methods\n",
        "\n",
        "![alt text](https://encrypted-tbn0.gstatic.com/images?q=tbn:ANd9GcQAJ7LcNQXUT0an5uu2FO_uclWl8MCq0wINJNh3oLrs-shr3_Hb5A)\n",
        "\n",
        "\n",
        "Golden Ratio\n",
        "\n",
        "![alt text](https://s14-eu5.startpage.com/cgi-bin/serveimage?url=https%3A%2F%2Fencrypted-tbn0.gstatic.com%2Fimages%3Fq%3Dtbn%3AANd9GcQDsh2JSGxEuiQueDxc8Nv3exWChiSh6WRxRrh_LeffSCXFbiysFA&sp=008dda95fde15b3ee8aea0de9351ca23&anticache=923965)\n",
        "\n",
        "\n",
        "Diagonal Dominance\n",
        "\n",
        "![alt text](https://ianfrithrn.files.wordpress.com/2012/05/reduced1.jpg)"
      ]
    }
  ]
}