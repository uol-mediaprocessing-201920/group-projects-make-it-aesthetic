{
  "nbformat": 4,
  "nbformat_minor": 0,
  "metadata": {
    "colab": {
      "name": "MakeItAesthetic.ipynb",
      "provenance": [],
      "collapsed_sections": [],
      "include_colab_link": true
    },
    "kernelspec": {
      "name": "python3",
      "display_name": "Python 3"
    }
  },
  "cells": [
    {
      "cell_type": "markdown",
      "metadata": {
        "id": "view-in-github",
        "colab_type": "text"
      },
      "source": [
        "<a href=\"https://colab.research.google.com/github/uol-mediaprocessing/group-projects-make-it-aesthetic/blob/master/MakeItAesthetic.ipynb\" target=\"_parent\"><img src=\"https://colab.research.google.com/assets/colab-badge.svg\" alt=\"Open In Colab\"/></a>"
      ]
    },
    {
      "cell_type": "markdown",
      "metadata": {
        "id": "IRsRspQ-40ug",
        "colab_type": "text"
      },
      "source": [
        "## Make It Aesthetic\n",
        "### Overview\n",
        "\n",
        "Wir haben folgenden Ziele:\n",
        "\n",
        "* Erkennnung des Bildmittelpunkts\n",
        " * Verwendung der verschiedenen Schärfen eines Bildes; Ann.: Scharfes Bild -> Weiter im Vordergrund, Bildmittelpunkt\n",
        " * Verwendung verschiedener Formen; Ann.: größere Formen mehr im Bildmittelpunkt\n",
        "* Bei größeren Bildausschnitten: Zoomen des Bildes, so dass die \"Rule of Third\" erfüllt wird.\n",
        "\n",
        "\n",
        "\n",
        "![alt text](https://farm5.static.flickr.com/4165/34427229361_af849dc8dd_b.jpg \"'Rule of Third'-Flower\")\n",
        "\n"
      ]
    }
  ]
}